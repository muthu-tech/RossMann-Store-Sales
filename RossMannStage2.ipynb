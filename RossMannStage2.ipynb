{
 "cells": [
  {
   "cell_type": "code",
   "execution_count": 27,
   "metadata": {
    "_cell_guid": "b1076dfc-b9ad-4769-8c92-a6c4dae69d19",
    "_uuid": "8f2839f25d086af736a60e9eeb907d3b93b6e0e5"
   },
   "outputs": [
    {
     "name": "stdout",
     "output_type": "stream",
     "text": [
      "['store.csv', 'train.csv', 'test.csv', 'sample_submission.csv']\n"
     ]
    }
   ],
   "source": [
    "# This Python 3 environment comes with many helpful analytics libraries installed\n",
    "# It is defined by the kaggle/python docker image: https://github.com/kaggle/docker-python\n",
    "# For example, here's several helpful packages to load in \n",
    "\n",
    "import numpy as np # linear algebra\n",
    "import pandas as pd # data processing, CSV file I/O (e.g. pd.read_csv)\n",
    "import seaborn as sns\n",
    "from sklearn import linear_model\n",
    "import statsmodels.api as sm\n",
    "# Input data files are available in the \"../input/\" directory.\n",
    "# For example, running this (by clicking run or pressing Shift+Enter) will list the files in the input directory\n",
    "\n",
    "import os\n",
    "print(os.listdir(\"../input\"))\n",
    "# Any results you write to the current directory are saved as output."
   ]
  },
  {
   "cell_type": "code",
   "execution_count": 28,
   "metadata": {
    "_cell_guid": "79c7e3d0-c299-4dcb-8224-4455121ee9b0",
    "_uuid": "d629ff2d2480ee46fbb7e2d37f6b5fab8052498a"
   },
   "outputs": [
    {
     "name": "stderr",
     "output_type": "stream",
     "text": [
      "/opt/conda/lib/python3.6/site-packages/IPython/core/interactiveshell.py:2698: DtypeWarning: Columns (7) have mixed types. Specify dtype option on import or set low_memory=False.\n",
      "  interactivity=interactivity, compiler=compiler, result=result)\n"
     ]
    }
   ],
   "source": [
    "givenTrain = pd.read_csv(\"../input/train.csv\",parse_dates = ['Date'])\n",
    "givenTest = pd.read_csv(\"../input/test.csv\",parse_dates = ['Date'])\n",
    "givenStore = pd.read_csv(\"../input/store.csv\")"
   ]
  },
  {
   "cell_type": "code",
   "execution_count": 29,
   "metadata": {
    "_cell_guid": "ec5cd292-9bdb-44f0-a44f-3e7fe16a0933",
    "_uuid": "21dafe1a51e572e486876085592e999737d18f81",
    "collapsed": true
   },
   "outputs": [],
   "source": [
    "givenTrain[givenTrain.StateHoliday==\"0\"] = 0  #To maintain consistency in data type in this column"
   ]
  },
  {
   "cell_type": "code",
   "execution_count": 31,
   "metadata": {
    "_cell_guid": "1c362a27-003e-4447-b8d5-76ffec19d861",
    "_uuid": "213710edaac3356e3331bfdb189eebea51bc71c2",
    "collapsed": true
   },
   "outputs": [],
   "source": [
    "#Considering only open stores and stores with continous promotions\n",
    "openStores = givenTrain[givenTrain['Open'] == 1]\n",
    "givenStore = givenStore[givenStore['Promo2'] == 1]"
   ]
  },
  {
   "cell_type": "code",
   "execution_count": 32,
   "metadata": {
    "_cell_guid": "d40b84b6-ff95-4054-9695-fade1c6678da",
    "_uuid": "abf803f0e704ce5f77cc29f491653314d9f92dbd",
    "collapsed": true
   },
   "outputs": [],
   "source": [
    "combinedData = pd.merge(openStores,givenStore,how=\"inner\")"
   ]
  },
  {
   "cell_type": "markdown",
   "metadata": {
    "_cell_guid": "4d10fdcc-c310-4515-8e4e-6731080e072a",
    "_uuid": "dd8af13f9aeeefdc1db9dbb2a9e70ef125bbef32"
   },
   "source": [
    "**Feature Selection: **\n",
    "\n",
    "    Information about competitiors are not considered for this analysis. Only information about promotions are analysed."
   ]
  },
  {
   "cell_type": "code",
   "execution_count": 33,
   "metadata": {
    "_cell_guid": "adf9508f-6308-4db8-9c92-809adf4aedcc",
    "_uuid": "3fe5c3235692ac38a52574d6f019378d7b97899a",
    "collapsed": true
   },
   "outputs": [],
   "source": [
    "interimData = combinedData.drop(combinedData[['CompetitionDistance','CompetitionOpenSinceMonth','CompetitionOpenSinceYear']],axis= 1)"
   ]
  },
  {
   "cell_type": "code",
   "execution_count": 34,
   "metadata": {
    "_cell_guid": "26167729-d771-41d2-80d6-f29cdd7d5dc1",
    "_uuid": "82734f0fe23de85fb08a8c8b9bc04b02072111a6"
   },
   "outputs": [
    {
     "name": "stdout",
     "output_type": "stream",
     "text": [
      "Ensuring if any anomalies present with Promo2 and Promo2SinceWeek : 0\n",
      "Ensuring if any anomalies present with Promo2 and Promo2SinceYear : 0\n",
      "Ensuring if any anomalies present with Promo2 and PromoInterval : 0\n"
     ]
    }
   ],
   "source": [
    "print(\"Ensuring if any anomalies present with Promo2 and Promo2SinceWeek :\",((interimData['Promo2'] == 0) & (pd.notnull(interimData['Promo2SinceWeek']))).sum())\n",
    "print(\"Ensuring if any anomalies present with Promo2 and Promo2SinceYear :\",((interimData['Promo2'] == 0) & (pd.notnull(interimData['Promo2SinceYear']))).sum())\n",
    "print(\"Ensuring if any anomalies present with Promo2 and PromoInterval :\",((interimData['Promo2'] == 0) & (pd.notnull(interimData['PromoInterval']))).sum())"
   ]
  },
  {
   "cell_type": "code",
   "execution_count": 36,
   "metadata": {
    "_cell_guid": "86be6302-9dce-471b-9f4c-41bf27a1bff4",
    "_uuid": "48ac6a526c0ff6be4e0f60282bacebbbdb611078",
    "collapsed": true
   },
   "outputs": [],
   "source": [
    "interimData['Month'] = interimData['Date'].dt.month"
   ]
  },
  {
   "cell_type": "markdown",
   "metadata": {
    "_cell_guid": "fc9ef45e-1700-4200-84b2-148eef464bf7",
    "_uuid": "4594d993d5c16406fe9bfc48206366d2f74c1348"
   },
   "source": [
    "Since Month information is extracted from Date and Day of Week information is already available in the given dataset, 'Date' is dropped\n",
    "\n",
    "Promo2SinceWeek and Promo2SinceYear and PromoInterval are also dropped for simplicity .\n",
    "\n",
    "Open and Promo2 variables got same value throughtout since we filtered records with 1 on those columns above. Hence dropping them from dataset"
   ]
  },
  {
   "cell_type": "code",
   "execution_count": 37,
   "metadata": {
    "_cell_guid": "a27e1a0a-53f3-409a-bbed-d5692214f307",
    "_uuid": "16856f86ef65d5742c37de2885934695247c979a",
    "collapsed": true
   },
   "outputs": [],
   "source": [
    "dataAfterDropping = interimData.drop(interimData[['Date','Promo2SinceWeek','Promo2SinceYear','PromoInterval']],axis =1)\n",
    "\n",
    "#To process discrete values to dummies it is converted to string\n",
    "dataAfterDropping['Month'] = dataAfterDropping['Month'].astype(str)\n",
    "dataAfterDropping['DayOfWeek'] = dataAfterDropping['DayOfWeek'].astype(str)\n",
    "\n",
    "cleanDataSet = pd.get_dummies(dataAfterDropping)\n",
    "cleanDataSet.drop(cleanDataSet[['Open','Promo2']],axis=1,inplace=True) #it has same value for all observations."
   ]
  },
  {
   "cell_type": "code",
   "execution_count": 38,
   "metadata": {
    "_cell_guid": "9bc75567-dda5-48ac-8d01-b0ec84744638",
    "_uuid": "899a1dac753cae7a1975f1ef7693dcfed6ee10ee"
   },
   "outputs": [
    {
     "data": {
      "text/html": [
       "<div>\n",
       "<style scoped>\n",
       "    .dataframe tbody tr th:only-of-type {\n",
       "        vertical-align: middle;\n",
       "    }\n",
       "\n",
       "    .dataframe tbody tr th {\n",
       "        vertical-align: top;\n",
       "    }\n",
       "\n",
       "    .dataframe thead th {\n",
       "        text-align: right;\n",
       "    }\n",
       "</style>\n",
       "<table border=\"1\" class=\"dataframe\">\n",
       "  <thead>\n",
       "    <tr style=\"text-align: right;\">\n",
       "      <th></th>\n",
       "      <th>Store</th>\n",
       "      <th>Sales</th>\n",
       "      <th>Customers</th>\n",
       "      <th>Promo</th>\n",
       "      <th>SchoolHoliday</th>\n",
       "      <th>DayOfWeek_1</th>\n",
       "      <th>DayOfWeek_2</th>\n",
       "      <th>DayOfWeek_3</th>\n",
       "      <th>DayOfWeek_4</th>\n",
       "      <th>DayOfWeek_5</th>\n",
       "      <th>...</th>\n",
       "      <th>Month_11</th>\n",
       "      <th>Month_12</th>\n",
       "      <th>Month_2</th>\n",
       "      <th>Month_3</th>\n",
       "      <th>Month_4</th>\n",
       "      <th>Month_5</th>\n",
       "      <th>Month_6</th>\n",
       "      <th>Month_7</th>\n",
       "      <th>Month_8</th>\n",
       "      <th>Month_9</th>\n",
       "    </tr>\n",
       "  </thead>\n",
       "  <tbody>\n",
       "    <tr>\n",
       "      <th>0</th>\n",
       "      <td>96</td>\n",
       "      <td>6573</td>\n",
       "      <td>640</td>\n",
       "      <td>1</td>\n",
       "      <td>0</td>\n",
       "      <td>0</td>\n",
       "      <td>0</td>\n",
       "      <td>0</td>\n",
       "      <td>1</td>\n",
       "      <td>0</td>\n",
       "      <td>...</td>\n",
       "      <td>0</td>\n",
       "      <td>0</td>\n",
       "      <td>0</td>\n",
       "      <td>0</td>\n",
       "      <td>0</td>\n",
       "      <td>0</td>\n",
       "      <td>1</td>\n",
       "      <td>0</td>\n",
       "      <td>0</td>\n",
       "      <td>0</td>\n",
       "    </tr>\n",
       "    <tr>\n",
       "      <th>1</th>\n",
       "      <td>96</td>\n",
       "      <td>3996</td>\n",
       "      <td>505</td>\n",
       "      <td>0</td>\n",
       "      <td>0</td>\n",
       "      <td>0</td>\n",
       "      <td>0</td>\n",
       "      <td>1</td>\n",
       "      <td>0</td>\n",
       "      <td>0</td>\n",
       "      <td>...</td>\n",
       "      <td>0</td>\n",
       "      <td>0</td>\n",
       "      <td>0</td>\n",
       "      <td>0</td>\n",
       "      <td>0</td>\n",
       "      <td>0</td>\n",
       "      <td>0</td>\n",
       "      <td>0</td>\n",
       "      <td>0</td>\n",
       "      <td>1</td>\n",
       "    </tr>\n",
       "    <tr>\n",
       "      <th>2</th>\n",
       "      <td>96</td>\n",
       "      <td>4406</td>\n",
       "      <td>555</td>\n",
       "      <td>0</td>\n",
       "      <td>0</td>\n",
       "      <td>0</td>\n",
       "      <td>1</td>\n",
       "      <td>0</td>\n",
       "      <td>0</td>\n",
       "      <td>0</td>\n",
       "      <td>...</td>\n",
       "      <td>0</td>\n",
       "      <td>0</td>\n",
       "      <td>0</td>\n",
       "      <td>0</td>\n",
       "      <td>0</td>\n",
       "      <td>0</td>\n",
       "      <td>0</td>\n",
       "      <td>0</td>\n",
       "      <td>0</td>\n",
       "      <td>1</td>\n",
       "    </tr>\n",
       "    <tr>\n",
       "      <th>3</th>\n",
       "      <td>96</td>\n",
       "      <td>4287</td>\n",
       "      <td>523</td>\n",
       "      <td>0</td>\n",
       "      <td>0</td>\n",
       "      <td>1</td>\n",
       "      <td>0</td>\n",
       "      <td>0</td>\n",
       "      <td>0</td>\n",
       "      <td>0</td>\n",
       "      <td>...</td>\n",
       "      <td>0</td>\n",
       "      <td>0</td>\n",
       "      <td>0</td>\n",
       "      <td>0</td>\n",
       "      <td>0</td>\n",
       "      <td>0</td>\n",
       "      <td>0</td>\n",
       "      <td>0</td>\n",
       "      <td>0</td>\n",
       "      <td>1</td>\n",
       "    </tr>\n",
       "    <tr>\n",
       "      <th>4</th>\n",
       "      <td>96</td>\n",
       "      <td>1643</td>\n",
       "      <td>210</td>\n",
       "      <td>0</td>\n",
       "      <td>0</td>\n",
       "      <td>0</td>\n",
       "      <td>0</td>\n",
       "      <td>0</td>\n",
       "      <td>0</td>\n",
       "      <td>0</td>\n",
       "      <td>...</td>\n",
       "      <td>0</td>\n",
       "      <td>0</td>\n",
       "      <td>0</td>\n",
       "      <td>0</td>\n",
       "      <td>0</td>\n",
       "      <td>0</td>\n",
       "      <td>0</td>\n",
       "      <td>0</td>\n",
       "      <td>0</td>\n",
       "      <td>1</td>\n",
       "    </tr>\n",
       "  </tbody>\n",
       "</table>\n",
       "<p>5 rows × 35 columns</p>\n",
       "</div>"
      ],
      "text/plain": [
       "   Store  Sales  Customers  Promo  SchoolHoliday  DayOfWeek_1  DayOfWeek_2  \\\n",
       "0     96   6573        640      1              0            0            0   \n",
       "1     96   3996        505      0              0            0            0   \n",
       "2     96   4406        555      0              0            0            1   \n",
       "3     96   4287        523      0              0            1            0   \n",
       "4     96   1643        210      0              0            0            0   \n",
       "\n",
       "   DayOfWeek_3  DayOfWeek_4  DayOfWeek_5   ...     Month_11  Month_12  \\\n",
       "0            0            1            0   ...            0         0   \n",
       "1            1            0            0   ...            0         0   \n",
       "2            0            0            0   ...            0         0   \n",
       "3            0            0            0   ...            0         0   \n",
       "4            0            0            0   ...            0         0   \n",
       "\n",
       "   Month_2  Month_3  Month_4  Month_5  Month_6  Month_7  Month_8  Month_9  \n",
       "0        0        0        0        0        1        0        0        0  \n",
       "1        0        0        0        0        0        0        0        1  \n",
       "2        0        0        0        0        0        0        0        1  \n",
       "3        0        0        0        0        0        0        0        1  \n",
       "4        0        0        0        0        0        0        0        1  \n",
       "\n",
       "[5 rows x 35 columns]"
      ]
     },
     "execution_count": 38,
     "metadata": {},
     "output_type": "execute_result"
    }
   ],
   "source": [
    "cleanDataSet.head(5)"
   ]
  },
  {
   "cell_type": "markdown",
   "metadata": {
    "_cell_guid": "fea9ec06-49a7-4dbd-82b7-5fcd76bdf40d",
    "_uuid": "ac3f7d17fd7f18b62dec787a5c4beee36ba2d91b"
   },
   "source": [
    "Ordinary Least Squares to check for variables explanatory power.\n",
    "\n",
    "X1 represents all features i.e., excluding target variable 'Sales'\n",
    "\n",
    "y represents target variable"
   ]
  },
  {
   "cell_type": "code",
   "execution_count": 39,
   "metadata": {
    "_cell_guid": "0c4a3aec-2409-492b-94a7-e0a7209c6f4d",
    "_uuid": "a9ac431325e04a81f23389dfeb346b6ab11b0c05",
    "collapsed": true
   },
   "outputs": [],
   "source": [
    "X1 = cleanDataSet.drop(cleanDataSet[['Sales','Store']],axis =1)\n",
    "y = cleanDataSet['Sales']"
   ]
  },
  {
   "cell_type": "code",
   "execution_count": 40,
   "metadata": {
    "_cell_guid": "aea87efd-81f4-4a04-b4ea-970c80dd0997",
    "_uuid": "0e849615c15686c16e4f8832f06fb9dbad28d2af"
   },
   "outputs": [
    {
     "name": "stdout",
     "output_type": "stream",
     "text": [
      "                            OLS Regression Results                            \n",
      "==============================================================================\n",
      "Dep. Variable:                  Sales   R-squared:                       0.791\n",
      "Model:                            OLS   Adj. R-squared:                  0.791\n",
      "Method:                 Least Squares   F-statistic:                     7549.\n",
      "Date:                Thu, 03 May 2018   Prob (F-statistic):               0.00\n",
      "Time:                        03:57:46   Log-Likelihood:            -4.5621e+05\n",
      "No. Observations:               53773   AIC:                         9.125e+05\n",
      "Df Residuals:                   53745   BIC:                         9.127e+05\n",
      "Df Model:                          27                                         \n",
      "Covariance Type:            nonrobust                                         \n",
      "==================================================================================\n",
      "                     coef    std err          t      P>|t|      [0.025      0.975]\n",
      "----------------------------------------------------------------------------------\n",
      "const            -70.1875     60.707     -1.156      0.248    -189.174      48.799\n",
      "Customers          7.0278      0.019    366.273      0.000       6.990       7.065\n",
      "Promo           1390.7051     11.500    120.931      0.000    1368.165    1413.245\n",
      "SchoolHoliday    137.2503     16.457      8.340      0.000     104.995     169.506\n",
      "DayOfWeek_1      302.4919     20.211     14.967      0.000     262.879     342.105\n",
      "DayOfWeek_2     -211.0068     20.120    -10.487      0.000    -250.442    -171.572\n",
      "DayOfWeek_3     -336.4834     20.183    -16.672      0.000    -376.042    -296.925\n",
      "DayOfWeek_4     -380.4812     20.123    -18.908      0.000    -419.922    -341.040\n",
      "DayOfWeek_5     -237.8619     20.121    -11.822      0.000    -277.299    -198.424\n",
      "DayOfWeek_6      144.9888     20.571      7.048      0.000     104.669     185.308\n",
      "DayOfWeek_7      648.1651     94.136      6.885      0.000     463.658     832.672\n",
      "StateHoliday_0 -1282.5495    160.965     -7.968      0.000   -1598.042    -967.057\n",
      "StateHoliday_a   231.7659    187.572      1.236      0.217    -135.878     599.409\n",
      "StateHoliday_b   -76.9878    387.550     -0.199      0.843    -836.590     682.614\n",
      "StateHoliday_c  1057.5839    121.855      8.679      0.000     818.746    1296.421\n",
      "StoreType_a      879.1750     31.404     27.996      0.000     817.623     940.727\n",
      "StoreType_b    -3575.7811     74.918    -47.729      0.000   -3722.622   -3428.941\n",
      "StoreType_c      649.2962     32.768     19.815      0.000     585.070     713.523\n",
      "StoreType_d     1977.1224     32.562     60.718      0.000    1913.300    2040.945\n",
      "Assortment_a     669.9060     38.844     17.246      0.000     593.772     746.040\n",
      "Assortment_b   -1750.7362     75.521    -23.182      0.000   -1898.758   -1602.715\n",
      "Assortment_c    1010.6427     39.333     25.694      0.000     933.549    1087.736\n",
      "Month_1          535.2249     98.340      5.443      0.000     342.478     727.971\n",
      "Month_10       -1896.5509    229.856     -8.251      0.000   -2347.071   -1446.030\n",
      "Month_11          16.6868    426.459      0.039      0.969    -819.177     852.550\n",
      "Month_12        1057.5839    121.855      8.679      0.000     818.746    1296.421\n",
      "Month_2          491.6642     98.181      5.008      0.000     299.228     684.100\n",
      "Month_3          482.3119     98.278      4.908      0.000     289.686     674.937\n",
      "Month_4         -539.6843    506.135     -1.066      0.286   -1531.713     452.344\n",
      "Month_5         -590.7311    173.507     -3.405      0.001    -930.807    -250.655\n",
      "Month_6         -811.7718    186.835     -4.345      0.000   -1177.970    -445.574\n",
      "Month_7          504.1574     99.296      5.077      0.000     309.536     698.778\n",
      "Month_8          373.2224     98.669      3.783      0.000     179.831     566.614\n",
      "Month_9          307.6991     98.428      3.126      0.002     114.779     500.619\n",
      "==============================================================================\n",
      "Omnibus:                     8327.131   Durbin-Watson:                   0.414\n",
      "Prob(Omnibus):                  0.000   Jarque-Bera (JB):            58436.610\n",
      "Skew:                           0.559   Prob(JB):                         0.00\n",
      "Kurtosis:                       7.983   Cond. No.                     1.35e+16\n",
      "==============================================================================\n",
      "\n",
      "Warnings:\n",
      "[1] Standard Errors assume that the covariance matrix of the errors is correctly specified.\n",
      "[2] The smallest eigenvalue is 1.63e-22. This might indicate that there are\n",
      "strong multicollinearity problems or that the design matrix is singular.\n"
     ]
    }
   ],
   "source": [
    "X2 = sm.add_constant(X1)\n",
    "est = sm.OLS(y, X2)\n",
    "est2 = est.fit()\n",
    "print(est2.summary())"
   ]
  },
  {
   "cell_type": "markdown",
   "metadata": {
    "_cell_guid": "fed4f663-8bc0-4c80-8559-2bbc8a756349",
    "_uuid": "bd1dc34b469c71d2ccf3ea30c3fc560ddb9b333c"
   },
   "source": [
    "**Intrepretation**:\n",
    "    \n",
    "    1)Month_11 and Month_4 are having pvalues greater than 0.05 suggesting the absence of explanatory power.\n",
    "    \n",
    "    Month_11 has positive co-efficient meaning that sales would be increasing irrespective of Promo2 being present during month-11.\n",
    "    Month_4 has negative co-efficient meaning that sales would be decreasing irrespective of Promo2 being present during month-4.\n",
    "    \n",
    "    2) StateHoliday_a and StateHoliday_b are having unacceptable p-values suggesting the absence of explanatory power."
   ]
  },
  {
   "cell_type": "code",
   "execution_count": 41,
   "metadata": {
    "_cell_guid": "2da23e2b-1876-43f7-bbb4-cf8bb61c981d",
    "_uuid": "9705ec3215ab737315f7b763b72a5ee3f5d4474b"
   },
   "outputs": [
    {
     "data": {
      "text/plain": [
       "<matplotlib.axes._subplots.AxesSubplot at 0x7f0f787715c0>"
      ]
     },
     "execution_count": 41,
     "metadata": {},
     "output_type": "execute_result"
    },
    {
     "data": {
      "image/png": "[encoded data removed]",
      "text/plain": [
       "<matplotlib.figure.Figure at 0x7f0f2d5a0320>"
      ]
     },
     "metadata": {},
     "output_type": "display_data"
    }
   ],
   "source": [
    "corr = cleanDataSet.corr()\n",
    "sns.heatmap(corr)"
   ]
  },
  {
   "cell_type": "markdown",
   "metadata": {
    "_cell_guid": "09fd7786-5ff6-4f02-bd58-2c05f4ba2adb",
    "_uuid": "94a6c31bdbcc77f0f9f2d4657deff306a7e3c910",
    "collapsed": true
   },
   "source": [
    "Examining the above plot, Strong correlation is seen among variables such as 'Month_3  and StateHoliday_b'  , 'Month_5 and StateHoliday_b' .,etc\n",
    "\n",
    "\n",
    "Decided to retain only one of those highly correlated variables."
   ]
  },
  {
   "cell_type": "code",
   "execution_count": 42,
   "metadata": {
    "_cell_guid": "12572b10-eaa8-4fa2-9bdb-940a798a33d8",
    "_uuid": "e3ea820fd8bcfa16fddde22e899730a77581f493",
    "collapsed": true
   },
   "outputs": [],
   "source": [
    "newX = cleanDataSet.drop(cleanDataSet[['Sales','StateHoliday_b','StateHoliday_a','Assortment_a','Month_3','StoreType_a','Month_11','Month_4']],axis =1)\n",
    "y1 = cleanDataSet['Sales']"
   ]
  },
  {
   "cell_type": "code",
   "execution_count": 43,
   "metadata": {
    "_cell_guid": "76b0257c-3dc2-43dd-99b2-72d04c09a98d",
    "_uuid": "f4be82e3325994b5ef1e12abc95606a114e15971"
   },
   "outputs": [
    {
     "name": "stdout",
     "output_type": "stream",
     "text": [
      "Lasso Regression Co-efficients are: \n",
      "\n",
      "Store -0.24331096872316638\n",
      "Customers 7.0283832711638015\n",
      "Promo 1388.178732979916\n",
      "SchoolHoliday 135.41621406788494\n",
      "DayOfWeek_1 510.16287230783325\n",
      "DayOfWeek_2 -0.0\n",
      "DayOfWeek_3 -123.73642816607202\n",
      "DayOfWeek_4 -167.4416259511712\n",
      "DayOfWeek_5 -26.818197122176958\n",
      "DayOfWeek_6 352.3585427744016\n",
      "DayOfWeek_7 752.037513873026\n",
      "StateHoliday_0 -557.0989893360132\n",
      "StateHoliday_c 87.79333072963462\n",
      "StoreType_b -4482.324516988981\n",
      "StoreType_c -220.22619910779602\n",
      "StoreType_d 1091.3487522250052\n",
      "Assortment_b -2359.0959326800557\n",
      "Assortment_c 337.4601946383369\n",
      "Month_1 54.77530243260837\n",
      "Month_10 -1131.1219951524179\n",
      "Month_12 1698.606680903592\n",
      "Month_2 9.488642198472936\n",
      "Month_5 -21.958566973937177\n",
      "Month_6 -176.2061610678167\n",
      "Month_7 21.06412962458877\n",
      "Month_8 -102.17857968392974\n",
      "Month_9 -169.64525662577063\n",
      "\n",
      "\n",
      "Ridge Regression Co-oefficients are: \n",
      "\n",
      "Store -0.24348488063199\n",
      "Customers 7.032803427950545\n",
      "Promo 1390.412277863052\n",
      "SchoolHoliday 133.2784279020441\n",
      "DayOfWeek_1 309.6270478463908\n",
      "DayOfWeek_2 -201.04968117341954\n",
      "DayOfWeek_3 -325.91297633728226\n",
      "DayOfWeek_4 -368.9420585911432\n",
      "DayOfWeek_5 -229.31825337979075\n",
      "DayOfWeek_6 153.81745251536245\n",
      "DayOfWeek_7 661.7784690977119\n",
      "StateHoliday_0 -909.1060718792962\n",
      "StateHoliday_c 988.0526306765778\n",
      "StoreType_b -4516.141984832675\n",
      "StoreType_c -221.13222127879934\n",
      "StoreType_d 1092.4651302090465\n",
      "Assortment_b -2389.178775453399\n",
      "Assortment_c 337.57788256900693\n",
      "Month_1 56.6933326607259\n",
      "Month_10 -1739.814522116105\n",
      "Month_12 988.0526306765794\n",
      "Month_2 11.319596965788376\n",
      "Month_5 -455.35265710195574\n",
      "Month_6 -663.0543101197175\n",
      "Month_7 25.18371885905071\n",
      "Month_8 -101.73514497771586\n",
      "Month_9 -169.84099761849004\n"
     ]
    }
   ],
   "source": [
    "lr = linear_model.Lasso(alpha=0.2)\n",
    "lr.fit(newX,y)\n",
    "print(\"Lasso Regression Co-efficients are:\",\"\\n\")\n",
    "[print(a, b) for a,b in zip(newX.columns,lr.coef_)][0]\n",
    "\n",
    "print(\"\\n\")\n",
    "\n",
    "rf = linear_model.Ridge()\n",
    "rf.fit(newX,y)\n",
    "print(\"Ridge Regression Co-oefficients are:\",\"\\n\")\n",
    "[print(a, b) for a,b in zip(newX.columns,rf.coef_)][0]\n"
   ]
  },
  {
   "cell_type": "markdown",
   "metadata": {
    "_uuid": "92e47f17313e3f022f9e43282d29ed7eaae400f2"
   },
   "source": [
    "**Intrepretation & Conclusion:**\n",
    "\n",
    "  1) Day of week Vs Sales:\n",
    "  \n",
    "      When there is continuous promotion, DayOfWeek 1, DayOfWeek 6 and DayOfWeek 7 positively contributes to Sales of the company.  It is evident in OLS, Lasso and Ridge regression co-efficients.\n",
    "      \n",
    "   2) Month Vs Sales:\n",
    "      \n",
    "       When there is continuos promotion, Month_4 and Month_11 are insignificant when we try to explain the sales of the company.  Not running continous promotion during November and April is one of the key business decisions made from this result.\n",
    "       \n",
    "       Also, December is when sales goes up by bigger margin as it is evident from positive slopes in all three estimates shown abov.\n",
    "    \n",
    "    "
   ]
  }
 ],
 "metadata": {
  "kernelspec": {
   "display_name": "Python 2",
   "language": "python",
   "name": "python2"
  },
  "language_info": {
   "codemirror_mode": {
    "name": "ipython",
    "version": 2
   },
   "file_extension": ".py",
   "mimetype": "text/x-python",
   "name": "python",
   "nbconvert_exporter": "python",
   "pygments_lexer": "ipython2",
   "version": "2.7.13"
  }
 },
 "nbformat": 4,
 "nbformat_minor": 1
}
