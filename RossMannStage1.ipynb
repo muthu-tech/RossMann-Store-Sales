{
 "cells": [
  {
   "cell_type": "code",
   "execution_count": 2,
   "metadata": {
    "_cell_guid": "b1076dfc-b9ad-4769-8c92-a6c4dae69d19",
    "_uuid": "daf63cb5ecc438d4406583dc22e868a751dd5a09"
   },
   "outputs": [],
   "source": [
    "# This Python 3 environment comes with many helpful analytics libraries installed\n",
    "# It is defined by the kaggle/python docker image: https://github.com/kaggle/docker-python\n",
    "# For example, here's several helpful packages to load in \n",
    "import numpy as np # linear algebra\n",
    "import pandas as pd # data processing, CSV file I/O (e.g. pd.read_csv)\n",
    "from sklearn.model_selection import train_test_split\n",
    "from sklearn.metrics import *\n",
    "import random\n",
    "import seaborn as sns\n",
    "from sklearn.linear_model import LinearRegression,ridge_regression\n",
    "from sklearn.ensemble import RandomForestRegressor\n",
    "import statsmodels.api as sm\n",
    "\n",
    "# Input data files are available in the \"../input/\" directory.\n",
    "# For example, running this (by clicking run or pressing Shift+Enter) will list the files in the input directory\n",
    "\n",
    "import os\n",
    "#print(os.listdir(\"../input\"))\n",
    "\n",
    "# Any results you write to the current directory are saved as output.\n"
   ]
  },
  {
   "cell_type": "code",
   "execution_count": 3,
   "metadata": {
    "_cell_guid": "79c7e3d0-c299-4dcb-8224-4455121ee9b0",
    "_uuid": "0d7a1c0ca7ffd6ff1830c4ae66d2c50af409a83f"
   },
   "outputs": [
    {
     "ename": "IOError",
     "evalue": "File ../input/train.csv does not exist",
     "output_type": "error",
     "traceback": [
      "\u001b[0;31m---------------------------------------------------------------------------\u001b[0m",
      "\u001b[0;31mIOError\u001b[0m                                   Traceback (most recent call last)",
      "\u001b[0;32m<ipython-input-3-fb7e8ab90db9>\u001b[0m in \u001b[0;36m<module>\u001b[0;34m()\u001b[0m\n\u001b[0;32m----> 1\u001b[0;31m \u001b[0mgivenTrain\u001b[0m \u001b[1;33m=\u001b[0m \u001b[0mpd\u001b[0m\u001b[1;33m.\u001b[0m\u001b[0mread_csv\u001b[0m\u001b[1;33m(\u001b[0m\u001b[1;34m\"../input/train.csv\"\u001b[0m\u001b[1;33m,\u001b[0m\u001b[0mparse_dates\u001b[0m \u001b[1;33m=\u001b[0m \u001b[1;33m[\u001b[0m\u001b[1;34m'Date'\u001b[0m\u001b[1;33m]\u001b[0m\u001b[1;33m)\u001b[0m\u001b[1;33m\u001b[0m\u001b[0m\n\u001b[0m\u001b[1;32m      2\u001b[0m \u001b[0mgivenTest\u001b[0m \u001b[1;33m=\u001b[0m \u001b[0mpd\u001b[0m\u001b[1;33m.\u001b[0m\u001b[0mread_csv\u001b[0m\u001b[1;33m(\u001b[0m\u001b[1;34m\"../input/test.csv\"\u001b[0m\u001b[1;33m,\u001b[0m\u001b[0mparse_dates\u001b[0m \u001b[1;33m=\u001b[0m \u001b[1;33m[\u001b[0m\u001b[1;34m'Date'\u001b[0m\u001b[1;33m]\u001b[0m\u001b[1;33m)\u001b[0m\u001b[1;33m\u001b[0m\u001b[0m\n\u001b[1;32m      3\u001b[0m \u001b[0mgivenStore\u001b[0m \u001b[1;33m=\u001b[0m \u001b[0mpd\u001b[0m\u001b[1;33m.\u001b[0m\u001b[0mread_csv\u001b[0m\u001b[1;33m(\u001b[0m\u001b[1;34m\"../input/store.csv\"\u001b[0m\u001b[1;33m)\u001b[0m\u001b[1;33m\u001b[0m\u001b[0m\n",
      "\u001b[0;32mC:\\Users\\muthu\\Anaconda2\\Anaconda\\lib\\site-packages\\pandas\\io\\parsers.pyc\u001b[0m in \u001b[0;36mparser_f\u001b[0;34m(filepath_or_buffer, sep, delimiter, header, names, index_col, usecols, squeeze, prefix, mangle_dupe_cols, dtype, engine, converters, true_values, false_values, skipinitialspace, skiprows, nrows, na_values, keep_default_na, na_filter, verbose, skip_blank_lines, parse_dates, infer_datetime_format, keep_date_col, date_parser, dayfirst, iterator, chunksize, compression, thousands, decimal, lineterminator, quotechar, quoting, escapechar, comment, encoding, dialect, tupleize_cols, error_bad_lines, warn_bad_lines, skipfooter, skip_footer, doublequote, delim_whitespace, as_recarray, compact_ints, use_unsigned, low_memory, buffer_lines, memory_map, float_precision)\u001b[0m\n\u001b[1;32m    644\u001b[0m                     skip_blank_lines=skip_blank_lines)\n\u001b[1;32m    645\u001b[0m \u001b[1;33m\u001b[0m\u001b[0m\n\u001b[0;32m--> 646\u001b[0;31m         \u001b[1;32mreturn\u001b[0m \u001b[0m_read\u001b[0m\u001b[1;33m(\u001b[0m\u001b[0mfilepath_or_buffer\u001b[0m\u001b[1;33m,\u001b[0m \u001b[0mkwds\u001b[0m\u001b[1;33m)\u001b[0m\u001b[1;33m\u001b[0m\u001b[0m\n\u001b[0m\u001b[1;32m    647\u001b[0m \u001b[1;33m\u001b[0m\u001b[0m\n\u001b[1;32m    648\u001b[0m     \u001b[0mparser_f\u001b[0m\u001b[1;33m.\u001b[0m\u001b[0m__name__\u001b[0m \u001b[1;33m=\u001b[0m \u001b[0mname\u001b[0m\u001b[1;33m\u001b[0m\u001b[0m\n",
      "\u001b[0;32mC:\\Users\\muthu\\Anaconda2\\Anaconda\\lib\\site-packages\\pandas\\io\\parsers.pyc\u001b[0m in \u001b[0;36m_read\u001b[0;34m(filepath_or_buffer, kwds)\u001b[0m\n\u001b[1;32m    387\u001b[0m \u001b[1;33m\u001b[0m\u001b[0m\n\u001b[1;32m    388\u001b[0m     \u001b[1;31m# Create the parser.\u001b[0m\u001b[1;33m\u001b[0m\u001b[1;33m\u001b[0m\u001b[0m\n\u001b[0;32m--> 389\u001b[0;31m     \u001b[0mparser\u001b[0m \u001b[1;33m=\u001b[0m \u001b[0mTextFileReader\u001b[0m\u001b[1;33m(\u001b[0m\u001b[0mfilepath_or_buffer\u001b[0m\u001b[1;33m,\u001b[0m \u001b[1;33m**\u001b[0m\u001b[0mkwds\u001b[0m\u001b[1;33m)\u001b[0m\u001b[1;33m\u001b[0m\u001b[0m\n\u001b[0m\u001b[1;32m    390\u001b[0m \u001b[1;33m\u001b[0m\u001b[0m\n\u001b[1;32m    391\u001b[0m     \u001b[1;32mif\u001b[0m \u001b[1;33m(\u001b[0m\u001b[0mnrows\u001b[0m \u001b[1;32mis\u001b[0m \u001b[1;32mnot\u001b[0m \u001b[0mNone\u001b[0m\u001b[1;33m)\u001b[0m \u001b[1;32mand\u001b[0m \u001b[1;33m(\u001b[0m\u001b[0mchunksize\u001b[0m \u001b[1;32mis\u001b[0m \u001b[1;32mnot\u001b[0m \u001b[0mNone\u001b[0m\u001b[1;33m)\u001b[0m\u001b[1;33m:\u001b[0m\u001b[1;33m\u001b[0m\u001b[0m\n",
      "\u001b[0;32mC:\\Users\\muthu\\Anaconda2\\Anaconda\\lib\\site-packages\\pandas\\io\\parsers.pyc\u001b[0m in \u001b[0;36m__init__\u001b[0;34m(self, f, engine, **kwds)\u001b[0m\n\u001b[1;32m    728\u001b[0m             \u001b[0mself\u001b[0m\u001b[1;33m.\u001b[0m\u001b[0moptions\u001b[0m\u001b[1;33m[\u001b[0m\u001b[1;34m'has_index_names'\u001b[0m\u001b[1;33m]\u001b[0m \u001b[1;33m=\u001b[0m \u001b[0mkwds\u001b[0m\u001b[1;33m[\u001b[0m\u001b[1;34m'has_index_names'\u001b[0m\u001b[1;33m]\u001b[0m\u001b[1;33m\u001b[0m\u001b[0m\n\u001b[1;32m    729\u001b[0m \u001b[1;33m\u001b[0m\u001b[0m\n\u001b[0;32m--> 730\u001b[0;31m         \u001b[0mself\u001b[0m\u001b[1;33m.\u001b[0m\u001b[0m_make_engine\u001b[0m\u001b[1;33m(\u001b[0m\u001b[0mself\u001b[0m\u001b[1;33m.\u001b[0m\u001b[0mengine\u001b[0m\u001b[1;33m)\u001b[0m\u001b[1;33m\u001b[0m\u001b[0m\n\u001b[0m\u001b[1;32m    731\u001b[0m \u001b[1;33m\u001b[0m\u001b[0m\n\u001b[1;32m    732\u001b[0m     \u001b[1;32mdef\u001b[0m \u001b[0mclose\u001b[0m\u001b[1;33m(\u001b[0m\u001b[0mself\u001b[0m\u001b[1;33m)\u001b[0m\u001b[1;33m:\u001b[0m\u001b[1;33m\u001b[0m\u001b[0m\n",
      "\u001b[0;32mC:\\Users\\muthu\\Anaconda2\\Anaconda\\lib\\site-packages\\pandas\\io\\parsers.pyc\u001b[0m in \u001b[0;36m_make_engine\u001b[0;34m(self, engine)\u001b[0m\n\u001b[1;32m    921\u001b[0m     \u001b[1;32mdef\u001b[0m \u001b[0m_make_engine\u001b[0m\u001b[1;33m(\u001b[0m\u001b[0mself\u001b[0m\u001b[1;33m,\u001b[0m \u001b[0mengine\u001b[0m\u001b[1;33m=\u001b[0m\u001b[1;34m'c'\u001b[0m\u001b[1;33m)\u001b[0m\u001b[1;33m:\u001b[0m\u001b[1;33m\u001b[0m\u001b[0m\n\u001b[1;32m    922\u001b[0m         \u001b[1;32mif\u001b[0m \u001b[0mengine\u001b[0m \u001b[1;33m==\u001b[0m \u001b[1;34m'c'\u001b[0m\u001b[1;33m:\u001b[0m\u001b[1;33m\u001b[0m\u001b[0m\n\u001b[0;32m--> 923\u001b[0;31m             \u001b[0mself\u001b[0m\u001b[1;33m.\u001b[0m\u001b[0m_engine\u001b[0m \u001b[1;33m=\u001b[0m \u001b[0mCParserWrapper\u001b[0m\u001b[1;33m(\u001b[0m\u001b[0mself\u001b[0m\u001b[1;33m.\u001b[0m\u001b[0mf\u001b[0m\u001b[1;33m,\u001b[0m \u001b[1;33m**\u001b[0m\u001b[0mself\u001b[0m\u001b[1;33m.\u001b[0m\u001b[0moptions\u001b[0m\u001b[1;33m)\u001b[0m\u001b[1;33m\u001b[0m\u001b[0m\n\u001b[0m\u001b[1;32m    924\u001b[0m         \u001b[1;32melse\u001b[0m\u001b[1;33m:\u001b[0m\u001b[1;33m\u001b[0m\u001b[0m\n\u001b[1;32m    925\u001b[0m             \u001b[1;32mif\u001b[0m \u001b[0mengine\u001b[0m \u001b[1;33m==\u001b[0m \u001b[1;34m'python'\u001b[0m\u001b[1;33m:\u001b[0m\u001b[1;33m\u001b[0m\u001b[0m\n",
      "\u001b[0;32mC:\\Users\\muthu\\Anaconda2\\Anaconda\\lib\\site-packages\\pandas\\io\\parsers.pyc\u001b[0m in \u001b[0;36m__init__\u001b[0;34m(self, src, **kwds)\u001b[0m\n\u001b[1;32m   1388\u001b[0m         \u001b[0mkwds\u001b[0m\u001b[1;33m[\u001b[0m\u001b[1;34m'allow_leading_cols'\u001b[0m\u001b[1;33m]\u001b[0m \u001b[1;33m=\u001b[0m \u001b[0mself\u001b[0m\u001b[1;33m.\u001b[0m\u001b[0mindex_col\u001b[0m \u001b[1;32mis\u001b[0m \u001b[1;32mnot\u001b[0m \u001b[0mFalse\u001b[0m\u001b[1;33m\u001b[0m\u001b[0m\n\u001b[1;32m   1389\u001b[0m \u001b[1;33m\u001b[0m\u001b[0m\n\u001b[0;32m-> 1390\u001b[0;31m         \u001b[0mself\u001b[0m\u001b[1;33m.\u001b[0m\u001b[0m_reader\u001b[0m \u001b[1;33m=\u001b[0m \u001b[0m_parser\u001b[0m\u001b[1;33m.\u001b[0m\u001b[0mTextReader\u001b[0m\u001b[1;33m(\u001b[0m\u001b[0msrc\u001b[0m\u001b[1;33m,\u001b[0m \u001b[1;33m**\u001b[0m\u001b[0mkwds\u001b[0m\u001b[1;33m)\u001b[0m\u001b[1;33m\u001b[0m\u001b[0m\n\u001b[0m\u001b[1;32m   1391\u001b[0m \u001b[1;33m\u001b[0m\u001b[0m\n\u001b[1;32m   1392\u001b[0m         \u001b[1;31m# XXX\u001b[0m\u001b[1;33m\u001b[0m\u001b[1;33m\u001b[0m\u001b[0m\n",
      "\u001b[0;32mpandas\\parser.pyx\u001b[0m in \u001b[0;36mpandas.parser.TextReader.__cinit__ (pandas\\parser.c:4184)\u001b[0;34m()\u001b[0m\n",
      "\u001b[0;32mpandas\\parser.pyx\u001b[0m in \u001b[0;36mpandas.parser.TextReader._setup_parser_source (pandas\\parser.c:8449)\u001b[0;34m()\u001b[0m\n",
      "\u001b[0;31mIOError\u001b[0m: File ../input/train.csv does not exist"
     ]
    }
   ],
   "source": [
    "givenTrain = pd.read_csv(\"../input/train.csv\",parse_dates = ['Date'])\n",
    "givenTest = pd.read_csv(\"../input/test.csv\",parse_dates = ['Date'])\n",
    "givenStore = pd.read_csv(\"../input/store.csv\")"
   ]
  },
  {
   "cell_type": "code",
   "execution_count": 4,
   "metadata": {
    "_cell_guid": "f6e8564a-4461-4d00-acc5-46b5d9c2e696",
    "_uuid": "3c5d130ea826138d8400560d305536e94f6ce918",
    "collapsed": true
   },
   "outputs": [],
   "source": [
    "givenTrain[givenTrain.StateHoliday==\"0\"] = 0 "
   ]
  },
  {
   "cell_type": "code",
   "execution_count": 5,
   "metadata": {
    "_cell_guid": "314f6f57-8f74-4c0e-ad59-1e141b7270f2",
    "_uuid": "a954d06164ceac6646da3b337c2a238e2312b0b9"
   },
   "outputs": [
    {
     "data": {
      "text/plain": [
       "Store            0\n",
       "DayOfWeek        0\n",
       "Date             0\n",
       "Sales            0\n",
       "Customers        0\n",
       "Open             0\n",
       "Promo            0\n",
       "StateHoliday     0\n",
       "SchoolHoliday    0\n",
       "dtype: int64"
      ]
     },
     "execution_count": 5,
     "metadata": {},
     "output_type": "execute_result"
    }
   ],
   "source": [
    "givenTrain.isnull().sum()"
   ]
  },
  {
   "cell_type": "code",
   "execution_count": 6,
   "metadata": {
    "_cell_guid": "985c5aaf-de68-4629-876b-997b7ee2fa2e",
    "_uuid": "11c8946f0a88dae373d27bdf12b9cd85f87c463e"
   },
   "outputs": [
    {
     "data": {
      "text/plain": [
       "Store                          0\n",
       "StoreType                      0\n",
       "Assortment                     0\n",
       "CompetitionDistance            3\n",
       "CompetitionOpenSinceMonth    354\n",
       "CompetitionOpenSinceYear     354\n",
       "Promo2                         0\n",
       "Promo2SinceWeek              544\n",
       "Promo2SinceYear              544\n",
       "PromoInterval                544\n",
       "dtype: int64"
      ]
     },
     "execution_count": 6,
     "metadata": {},
     "output_type": "execute_result"
    }
   ],
   "source": [
    "givenStore.isnull().sum()"
   ]
  },
  {
   "cell_type": "markdown",
   "metadata": {
    "_cell_guid": "bd28c9ee-c326-4385-b887-6ec0a0f3997f",
    "_uuid": "bd5db98f6dad9a4b00b8e4790525284f83ef4ae6"
   },
   "source": [
    "**Checking Data Sanity: \n",
    "    Making sure no erroneos value exist.**"
   ]
  },
  {
   "cell_type": "code",
   "execution_count": 7,
   "metadata": {
    "_cell_guid": "aca055d0-29d8-4a02-b0e4-21ac3a3a36b1",
    "_uuid": "5984220e0dbe76552acca32154f2c795f17c0932"
   },
   "outputs": [
    {
     "data": {
      "text/html": [
       "<div>\n",
       "<style scoped>\n",
       "    .dataframe tbody tr th:only-of-type {\n",
       "        vertical-align: middle;\n",
       "    }\n",
       "\n",
       "    .dataframe tbody tr th {\n",
       "        vertical-align: top;\n",
       "    }\n",
       "\n",
       "    .dataframe thead th {\n",
       "        text-align: right;\n",
       "    }\n",
       "</style>\n",
       "<table border=\"1\" class=\"dataframe\">\n",
       "  <thead>\n",
       "    <tr style=\"text-align: right;\">\n",
       "      <th></th>\n",
       "      <th>Store</th>\n",
       "      <th>DayOfWeek</th>\n",
       "      <th>Date</th>\n",
       "      <th>Sales</th>\n",
       "      <th>Customers</th>\n",
       "      <th>Open</th>\n",
       "      <th>Promo</th>\n",
       "      <th>StateHoliday</th>\n",
       "      <th>SchoolHoliday</th>\n",
       "    </tr>\n",
       "  </thead>\n",
       "  <tbody>\n",
       "  </tbody>\n",
       "</table>\n",
       "</div>"
      ],
      "text/plain": [
       "Empty DataFrame\n",
       "Columns: [Store, DayOfWeek, Date, Sales, Customers, Open, Promo, StateHoliday, SchoolHoliday]\n",
       "Index: []"
      ]
     },
     "execution_count": 7,
     "metadata": {},
     "output_type": "execute_result"
    }
   ],
   "source": [
    "givenTrain[(givenTrain['Open'] == 0) & (givenTrain['Sales'] != 0)]"
   ]
  },
  {
   "cell_type": "markdown",
   "metadata": {
    "_cell_guid": "05b2e804-c734-4fe1-9053-d4fc65f6a5be",
    "_uuid": "3a7addafe2831207517d99be36edb73c398243ef"
   },
   "source": [
    "**For this analysis, only Stores that are open are considered.**"
   ]
  },
  {
   "cell_type": "code",
   "execution_count": 8,
   "metadata": {
    "_cell_guid": "5c642ede-4b2a-4e77-912f-45bfa9e52d9e",
    "_uuid": "238e0f4456cc45fe8ea79ac82973c914a754f916",
    "collapsed": true
   },
   "outputs": [],
   "source": [
    "openStores = givenTrain[givenTrain['Open'] == 1]\n"
   ]
  },
  {
   "cell_type": "markdown",
   "metadata": {
    "_cell_guid": "ea5cf505-9f94-40bf-8f45-13fdc2f1b851",
    "_uuid": "f98ae595303e8ab45cb4d048e42ed4d499a2c777"
   },
   "source": [
    "**Categorical values are converted to numerical values for analysis.**"
   ]
  },
  {
   "cell_type": "code",
   "execution_count": 9,
   "metadata": {
    "_cell_guid": "e5204875-389c-4932-a89a-b5f9ece2f027",
    "_uuid": "7e89cdeff48ce42892eca136a589d518fa7337b8"
   },
   "outputs": [
    {
     "name": "stderr",
     "output_type": "stream",
     "text": [
      "/opt/conda/lib/python3.6/site-packages/ipykernel_launcher.py:1: SettingWithCopyWarning: \n",
      "A value is trying to be set on a copy of a slice from a DataFrame\n",
      "\n",
      "See the caveats in the documentation: http://pandas.pydata.org/pandas-docs/stable/indexing.html#indexing-view-versus-copy\n",
      "  \"\"\"Entry point for launching an IPython kernel.\n"
     ]
    }
   ],
   "source": [
    "openStores.drop(columns='Date',axis=1,inplace =True)"
   ]
  },
  {
   "cell_type": "code",
   "execution_count": 10,
   "metadata": {
    "_cell_guid": "5e055bc5-6ac0-49b1-9d99-04526ddc2cd5",
    "_uuid": "353876d4764d77bcff67b637904f2a5e93d69067",
    "collapsed": true
   },
   "outputs": [],
   "source": [
    "openStores = pd.get_dummies(openStores)\n",
    "storeData = pd.get_dummies(givenStore)"
   ]
  },
  {
   "cell_type": "markdown",
   "metadata": {
    "_cell_guid": "0e351dc9-0579-4a6e-a599-cfc287640417",
    "_uuid": "797e1d746f33e8d299cfcd32e1a504fb0c74ccf8"
   },
   "source": [
    "**Merging training and store data**"
   ]
  },
  {
   "cell_type": "code",
   "execution_count": 12,
   "metadata": {
    "_cell_guid": "1dd32642-2890-4478-948b-c15df0caebde",
    "_uuid": "91ccc669466636aa862661c50534a8f03f8eb1b6",
    "collapsed": true
   },
   "outputs": [],
   "source": [
    "mergeData = pd.merge(openStores, storeData, how=\"inner\")"
   ]
  },
  {
   "cell_type": "markdown",
   "metadata": {
    "_cell_guid": "4f5e6804-2657-4e54-827e-6754578b7938",
    "_uuid": "64768ad06e210808917b1478d2bb6e5b886e0b87"
   },
   "source": [
    "**Handling Null Values **"
   ]
  },
  {
   "cell_type": "code",
   "execution_count": 13,
   "metadata": {
    "_cell_guid": "19d7b329-d265-4565-93bd-6e30a0ba7679",
    "_uuid": "757192465433a0f886eb95eb2fdd05c51e9646b0"
   },
   "outputs": [
    {
     "data": {
      "text/plain": [
       "Store                                 0\n",
       "DayOfWeek                             0\n",
       "Sales                                 0\n",
       "Customers                             0\n",
       "Open                                  0\n",
       "Promo                                 0\n",
       "SchoolHoliday                         0\n",
       "StateHoliday_0                        0\n",
       "StateHoliday_a                        0\n",
       "StateHoliday_b                        0\n",
       "StateHoliday_c                        0\n",
       "CompetitionDistance                 273\n",
       "CompetitionOpenSinceMonth         36157\n",
       "CompetitionOpenSinceYear          36157\n",
       "Promo2                                0\n",
       "Promo2SinceWeek                   59277\n",
       "Promo2SinceYear                   59277\n",
       "StoreType_a                           0\n",
       "StoreType_b                           0\n",
       "StoreType_c                           0\n",
       "StoreType_d                           0\n",
       "Assortment_a                          0\n",
       "Assortment_b                          0\n",
       "Assortment_c                          0\n",
       "PromoInterval_Feb,May,Aug,Nov         0\n",
       "PromoInterval_Jan,Apr,Jul,Oct         0\n",
       "PromoInterval_Mar,Jun,Sept,Dec        0\n",
       "dtype: int64"
      ]
     },
     "execution_count": 13,
     "metadata": {},
     "output_type": "execute_result"
    }
   ],
   "source": [
    "mergeData.isna().sum()"
   ]
  },
  {
   "cell_type": "markdown",
   "metadata": {
    "_cell_guid": "7bb3acd6-85c3-4647-ab79-be7b253d55fc",
    "_uuid": "5522682048b973fa41ea343131612111df4e2015"
   },
   "source": [
    "**Varaibles related to Competition are dropped and Promo2SinceWeek, Promo2SinceYear are dropped for now.**"
   ]
  },
  {
   "cell_type": "code",
   "execution_count": 14,
   "metadata": {
    "_cell_guid": "664c9ebd-8524-4f13-825d-1efc623f1d22",
    "_uuid": "66a858b4432ea7b158ac6362dab1ff650b0c1b8b",
    "collapsed": true
   },
   "outputs": [],
   "source": [
    "cleanData= mergeData.drop(mergeData[['CompetitionDistance','CompetitionOpenSinceMonth','CompetitionOpenSinceYear','Promo2SinceWeek','Promo2SinceYear']],axis= 1)"
   ]
  },
  {
   "cell_type": "code",
   "execution_count": 15,
   "metadata": {
    "_cell_guid": "299f2ce5-ced4-446b-b7c7-ad0ef758d7d9",
    "_uuid": "795907b8959f2e0fc3890663e0c34e7797565b39"
   },
   "outputs": [
    {
     "data": {
      "text/plain": [
       "Store                             0\n",
       "DayOfWeek                         0\n",
       "Sales                             0\n",
       "Customers                         0\n",
       "Open                              0\n",
       "Promo                             0\n",
       "SchoolHoliday                     0\n",
       "StateHoliday_0                    0\n",
       "StateHoliday_a                    0\n",
       "StateHoliday_b                    0\n",
       "StateHoliday_c                    0\n",
       "Promo2                            0\n",
       "StoreType_a                       0\n",
       "StoreType_b                       0\n",
       "StoreType_c                       0\n",
       "StoreType_d                       0\n",
       "Assortment_a                      0\n",
       "Assortment_b                      0\n",
       "Assortment_c                      0\n",
       "PromoInterval_Feb,May,Aug,Nov     0\n",
       "PromoInterval_Jan,Apr,Jul,Oct     0\n",
       "PromoInterval_Mar,Jun,Sept,Dec    0\n",
       "dtype: int64"
      ]
     },
     "execution_count": 15,
     "metadata": {},
     "output_type": "execute_result"
    }
   ],
   "source": [
    "cleanData.isna().sum()"
   ]
  },
  {
   "cell_type": "code",
   "execution_count": 16,
   "metadata": {
    "_cell_guid": "8f5d457a-cacb-4b01-be77-5412b555df85",
    "_uuid": "eb8042748470ef4936a65bce800a0c5369c10491",
    "collapsed": true
   },
   "outputs": [],
   "source": [
    "X = cleanData.drop(cleanData[['Sales', 'Store','Open']],axis = 1) # Store and Open have no explanatory power and sales is the target variable.\n",
    "y = cleanData['Sales'] "
   ]
  },
  {
   "cell_type": "markdown",
   "metadata": {
    "_cell_guid": "9b5837ef-30d8-4e84-8813-bd83e1f5292e",
    "_uuid": "19ca4fb3374c6209c73cef36e89e8bc425825d50"
   },
   "source": [
    "**Feature Selection:**\n",
    "\n",
    " Correlated variables are checked using a heat map shown below.\n",
    " \n",
    " Based on the results (highly correlated positive as well negative), certain variables are removed from the model.\n"
   ]
  },
  {
   "cell_type": "code",
   "execution_count": 17,
   "metadata": {
    "_cell_guid": "6de1d4a4-0853-49fd-bc88-c23106b2e5fd",
    "_uuid": "c047503801f579899e8aa4293e2480fe3cf799ca"
   },
   "outputs": [
    {
     "data": {
      "text/plain": [
       "<matplotlib.axes._subplots.AxesSubplot at 0x7f077c678828>"
      ]
     },
     "execution_count": 17,
     "metadata": {},
     "output_type": "execute_result"
    },
    {
     "data": {
      "image/png": "[encoded data removed]",
      "text/plain": [
       "<matplotlib.figure.Figure at 0x7f077d2b5fd0>"
      ]
     },
     "metadata": {},
     "output_type": "display_data"
    }
   ],
   "source": [
    "corr = cleanData.corr()\n",
    "sns.heatmap(corr)"
   ]
  },
  {
   "cell_type": "markdown",
   "metadata": {
    "_cell_guid": "52721edf-d01e-44b2-b016-9245e625bbac",
    "_uuid": "f739415f7a1f97ccfb320b9d9782abf2b7f7e95b"
   },
   "source": [
    "From the correlation plot, its evident that 'assortment_a' and 'assortment_c' are correlated.\n",
    "\n",
    "Also following variables\n",
    "'store_type c' and 'store_type a' are correlated\n",
    "\n",
    "'StateHoliday _a' and 'StateHoliday_0' "
   ]
  },
  {
   "cell_type": "code",
   "execution_count": 18,
   "metadata": {
    "_cell_guid": "2a782e75-8d12-4e85-af67-ade294244366",
    "_uuid": "b2ca15ed85c2eb5b0456cbac3de8288d13bb12dd",
    "collapsed": true
   },
   "outputs": [],
   "source": [
    "X1 = cleanData.drop(cleanData[['Sales', 'Store','Open','PromoInterval_Feb,May,Aug,Nov','StoreType_a','Assortment_a','StateHoliday_a']],axis = 1)\n",
    "y = cleanData['Sales']"
   ]
  },
  {
   "cell_type": "code",
   "execution_count": 19,
   "metadata": {
    "_cell_guid": "4e2f392c-b989-4bfa-9aa9-eb1aff1f63c7",
    "_uuid": "06d6b638fc536f9ddd24b29d11fcafe24b6b970c"
   },
   "outputs": [
    {
     "name": "stdout",
     "output_type": "stream",
     "text": [
      "                            OLS Regression Results                            \n",
      "==============================================================================\n",
      "Dep. Variable:                  Sales   R-squared:                       0.830\n",
      "Model:                            OLS   Adj. R-squared:                  0.830\n",
      "Method:                 Least Squares   F-statistic:                 3.670e+04\n",
      "Date:                Thu, 03 May 2018   Prob (F-statistic):               0.00\n",
      "Time:                        03:41:23   Log-Likelihood:            -9.6379e+05\n",
      "No. Observations:              113050   AIC:                         1.928e+06\n",
      "Df Residuals:                  113034   BIC:                         1.928e+06\n",
      "Df Model:                          15                                         \n",
      "Covariance Type:            nonrobust                                         \n",
      "==================================================================================================\n",
      "                                     coef    std err          t      P>|t|      [0.025      0.975]\n",
      "--------------------------------------------------------------------------------------------------\n",
      "const                            797.2975     49.514     16.102      0.000     700.250     894.345\n",
      "DayOfWeek                        -41.1827      2.192    -18.785      0.000     -45.480     -36.886\n",
      "Customers                          7.0033      0.011    630.628      0.000       6.982       7.025\n",
      "Promo                           1200.3408      7.792    154.043      0.000    1185.068    1215.613\n",
      "SchoolHoliday                     36.6653      8.456      4.336      0.000      20.091      53.239\n",
      "StateHoliday_0                  -218.7866     47.572     -4.599      0.000    -312.027    -125.547\n",
      "StateHoliday_b                   105.2962    111.887      0.941      0.347    -114.001     324.594\n",
      "StateHoliday_c                  2487.3529    152.868     16.271      0.000    2187.734    2786.972\n",
      "Promo2                           248.8050     11.928     20.858      0.000     225.425     272.185\n",
      "StoreType_b                    -2858.2149     38.260    -74.705      0.000   -2933.204   -2783.226\n",
      "StoreType_c                     -163.7460     11.042    -14.830      0.000    -185.388    -142.104\n",
      "StoreType_d                     1078.5216      8.811    122.410      0.000    1061.253    1095.790\n",
      "Assortment_b                   -3894.8732     48.305    -80.631      0.000   -3989.551   -3800.196\n",
      "Assortment_c                     362.7892      7.602     47.720      0.000     347.888     377.690\n",
      "PromoInterval_Jan,Apr,Jul,Oct    -25.5418     12.810     -1.994      0.046     -50.649      -0.434\n",
      "PromoInterval_Mar,Jun,Sept,Dec  -196.1855     15.889    -12.347      0.000    -227.328    -165.043\n",
      "==============================================================================\n",
      "Omnibus:                    21403.491   Durbin-Watson:                   0.423\n",
      "Prob(Omnibus):                  0.000   Jarque-Bera (JB):           132743.723\n",
      "Skew:                           0.770   Prob(JB):                         0.00\n",
      "Kurtosis:                       8.080   Cond. No.                     3.69e+04\n",
      "==============================================================================\n",
      "\n",
      "Warnings:\n",
      "[1] Standard Errors assume that the covariance matrix of the errors is correctly specified.\n",
      "[2] The condition number is large, 3.69e+04. This might indicate that there are\n",
      "strong multicollinearity or other numerical problems.\n"
     ]
    }
   ],
   "source": [
    "X2 = sm.add_constant(X1)\n",
    "est = sm.OLS(y, X2)\n",
    "est2 = est.fit()\n",
    "print(est2.summary())"
   ]
  },
  {
   "cell_type": "code",
   "execution_count": 20,
   "metadata": {
    "_cell_guid": "8e73e473-d4d2-4dd6-bffb-6771350a8d3a",
    "_uuid": "08366b32251601e84b784d859bde1890f4c2d9d0",
    "collapsed": true
   },
   "outputs": [],
   "source": [
    "def unRestrictedModel(cleanData):\n",
    "    predictiveVariables = cleanData.drop(cleanData[['Sales', 'Store','Open','PromoInterval_Feb,May,Aug,Nov','StoreType_a','Assortment_a','StateHoliday_a']],axis = 1)\n",
    "    toPredict = cleanData['Sales']\n",
    "    X_train, X_test, y_train, y_test = train_test_split(predictiveVariables, toPredict, test_size=0.33, random_state=42)\n",
    "    lm = LinearRegression()\n",
    "    lfit = lm.fit(X_train,y_train)\n",
    "    yPredict = lfit.predict(X_test)\n",
    "    return np.sqrt(mean_absolute_error(y_test,yPredict))\n",
    "#unRestrictedModel(cleanData)\n",
    "    "
   ]
  },
  {
   "cell_type": "code",
   "execution_count": 21,
   "metadata": {
    "_cell_guid": "b46f3248-73a5-426c-9499-fe9f828b22fe",
    "_uuid": "fa733f23ed3b7aa262b34af77c8106fe27e54836",
    "collapsed": true
   },
   "outputs": [],
   "source": [
    "def RestrictedModel(cleanData): #Dropping promo\n",
    "    predictiveVariables = cleanData.drop(cleanData[['Promo','Sales', 'Store','Open','PromoInterval_Feb,May,Aug,Nov','StoreType_a','Assortment_a','StateHoliday_a']],axis = 1)\n",
    "    toPredict = cleanData['Sales']\n",
    "    X_train, X_test, y_train, y_test = train_test_split(predictiveVariables, toPredict, test_size=0.33, random_state=42)\n",
    "    lm = LinearRegression()\n",
    "    lfit = lm.fit(X_train,y_train)\n",
    "    yPredict = lfit.predict(X_test)\n",
    "    return np.sqrt(mean_absolute_error(y_test,yPredict))\n",
    "#RestrictedModel(cleanData)"
   ]
  },
  {
   "cell_type": "code",
   "execution_count": 22,
   "metadata": {
    "_cell_guid": "185915b6-938b-4de9-9469-2ac6b72ec459",
    "_uuid": "4d972bcf6554153321d27fd40bf7de23bcd3e04b"
   },
   "outputs": [
    {
     "name": "stdout",
     "output_type": "stream",
     "text": [
      "0\n"
     ]
    },
    {
     "data": {
      "text/plain": [
       "0.0"
      ]
     },
     "execution_count": 22,
     "metadata": {},
     "output_type": "execute_result"
    }
   ],
   "source": [
    "randomNess = 0\n",
    "for i in range(1,101):\n",
    "    f=(i/100)\n",
    "    df =cleanData.sample(frac = f ,replace=True)\n",
    "    errorFullModel = unRestrictedModel(df)\n",
    "    errorNonPromoModel = RestrictedModel(df)\n",
    "    if errorFullModel > errorNonPromoModel:\n",
    "        randomNess = randomNess + 1\n",
    "le= len(cleanData)\n",
    "print(randomNess)\n",
    "pVal = randomNess/100\n",
    "pVal"
   ]
  },
  {
   "cell_type": "markdown",
   "metadata": {
    "_cell_guid": "0833b157-4626-4ec9-9d1e-21f9923ff0af",
    "_uuid": "ff09841137c50f44e057f211b4dcdae3abc3abc5"
   },
   "source": [
    "**Intrepretation**:\n",
    "  \n",
    "   Bootstrapping the given data for about 100 times,  the model with promos fits the data better than the model without promos.(As it is evident from p value)\n",
    "   \n",
    "   \n",
    "\n"
   ]
  },
  {
   "cell_type": "markdown",
   "metadata": {
    "_cell_guid": "48cf1664-b41a-453f-a86e-9407d6039338",
    "_uuid": "66a30b894baae1db001c364efe362a53fc99fd02"
   },
   "source": [
    "**Supporting the above claim with other regressors**:\n",
    "\n",
    "Checking if Mean Absolute Error changes with respect to the presence of Promo"
   ]
  },
  {
   "cell_type": "code",
   "execution_count": 23,
   "metadata": {
    "_cell_guid": "1ed14319-6e7f-4444-a249-45b5a96c3084",
    "_uuid": "bcfc55bbadff4b6d03129d575b6132d3ae93fbb1"
   },
   "outputs": [
    {
     "name": "stdout",
     "output_type": "stream",
     "text": [
      "Mean Absolute Error with Promos included: 787.5329\n",
      "Mean Absolute Error without Promos included: 903.8035\n"
     ]
    }
   ],
   "source": [
    "# Gradient Boosting Regressor with promos included in explanatory variables\n",
    "X = cleanData.drop(cleanData[['Sales', 'Store','Open','PromoInterval_Feb,May,Aug,Nov','StoreType_a','Assortment_a','StateHoliday_a']],axis = 1)\n",
    "Y = cleanData['Sales']\n",
    "X_train, X_test, y_train, y_test = train_test_split(X, Y, test_size=0.33)\n",
    "params = {'n_estimators': 500, 'max_depth': 4, 'min_samples_split': 2,\n",
    "          'learning_rate': 0.02, 'loss': 'ls'}\n",
    "clf = ensemble.GradientBoostingRegressor(**params)\n",
    "clf.fit(X_train, y_train)\n",
    "mae = mean_absolute_error(y_test, clf.predict(X_test))\n",
    "print(\"Mean Absolute Error with Promos included: %.4f\" % mae)\n",
    "\n",
    "# Gradient Boosting Regressor after removing promos in explanatory variables\n",
    "X = cleanData.drop(cleanData[['Promo','Sales', 'Store','Open','PromoInterval_Feb,May,Aug,Nov','StoreType_a','Assortment_a','StateHoliday_a']],axis = 1)\n",
    "Y = cleanData['Sales']\n",
    "X_train, X_test, y_train, y_test = train_test_split(X, Y, test_size=0.33)\n",
    "params = {'n_estimators': 500, 'max_depth': 4, 'min_samples_split': 2,\n",
    "          'learning_rate': 0.02, 'loss': 'ls'}\n",
    "clf = ensemble.GradientBoostingRegressor(**params)\n",
    "clf.fit(X_train, y_train)\n",
    "mae = mean_absolute_error(y_test, clf.predict(X_test))\n",
    "print(\"Mean Absolute Error without Promos included: %.4f\" % mae)"
   ]
  },
  {
   "cell_type": "code",
   "execution_count": 28,
   "metadata": {
    "_cell_guid": "94131dc1-4900-4899-88d5-f03413e6b237",
    "_uuid": "6b7bb0c1e3f471994651314df38a258299846e02"
   },
   "outputs": [
    {
     "name": "stdout",
     "output_type": "stream",
     "text": [
      "MAE with Promos included: 414.4766\n",
      "MAE without Promos included: 522.6829\n"
     ]
    }
   ],
   "source": [
    "rf = RandomForestRegressor(n_estimators=100)\n",
    "X = cleanData.drop(cleanData[['Sales', 'Store','Open','PromoInterval_Feb,May,Aug,Nov','StoreType_a','Assortment_a','StateHoliday_a']],axis = 1)\n",
    "Y = cleanData['Sales']\n",
    "X_train, X_test, y_train, y_test = train_test_split(X, Y, test_size=0.33)\n",
    "rf.fit(X,y)\n",
    "mae = mean_absolute_error(y_test, rf.predict(X_test))\n",
    "print(\"MAE with Promos included: %.4f\" % mae)\n",
    "\n",
    "rf1 = RandomForestRegressor(n_estimators=100)\n",
    "X = cleanData.drop(cleanData[['Promo','Sales', 'Store','Open','PromoInterval_Feb,May,Aug,Nov','StoreType_a','Assortment_a','StateHoliday_a']],axis = 1)\n",
    "Y = cleanData['Sales']\n",
    "X_train, X_test, y_train, y_test = train_test_split(X, Y, test_size=0.33)\n",
    "rf1.fit(X,y)\n",
    "mae1 = mean_absolute_error(y_test, rf1.predict(X_test))\n",
    "print(\"MAE without Promos included: %.4f\" % mae1)"
   ]
  },
  {
   "cell_type": "markdown",
   "metadata": {
    "_cell_guid": "5b6efcf0-8483-450e-8be2-1d09e5082d6f",
    "_uuid": "0cdf243f05e49687983a687d32a03b08c0b05edf",
    "collapsed": true
   },
   "source": [
    "**Conclusion: **\n",
    "\n",
    "From the above results, one can conclude that the variable 'Promo' has significance in explaining the sales of Rossmann Data."
   ]
  }
 ],
 "metadata": {
  "kernelspec": {
   "display_name": "Python 2",
   "language": "python",
   "name": "python2"
  },
  "language_info": {
   "codemirror_mode": {
    "name": "ipython",
    "version": 2
   },
   "file_extension": ".py",
   "mimetype": "text/x-python",
   "name": "python",
   "nbconvert_exporter": "python",
   "pygments_lexer": "ipython2",
   "version": "2.7.13"
  }
 },
 "nbformat": 4,
 "nbformat_minor": 1
}
